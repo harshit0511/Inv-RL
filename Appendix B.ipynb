{
 "cells": [
  {
   "cell_type": "code",
   "execution_count": 1,
   "metadata": {},
   "outputs": [
    {
     "name": "stderr",
     "output_type": "stream",
     "text": [
      "/Users/harshitsrivastava/anaconda3/lib/python3.6/site-packages/h5py/__init__.py:36: FutureWarning: Conversion of the second argument of issubdtype from `float` to `np.floating` is deprecated. In future, it will be treated as `np.float64 == np.dtype(float).type`.\n",
      "  from ._conv import register_converters as _register_converters\n"
     ]
    }
   ],
   "source": [
    "import numpy as np\n",
    "import pandas as pd\n",
    "import tensorflow as tf\n",
    "import matplotlib.pyplot as plt\n",
    "%matplotlib inline\n",
    "\n",
    "# For better visualization of the plots\n",
    "from jupyterthemes import jtplot\n",
    "jtplot.style('onedork')"
   ]
  },
  {
   "cell_type": "code",
   "execution_count": 13,
   "metadata": {},
   "outputs": [
    {
     "data": {
      "image/png": "[encoded data removed]",
      "text/plain": [
       "<matplotlib.figure.Figure at 0x1829da5518>"
      ]
     },
     "metadata": {},
     "output_type": "display_data"
    }
   ],
   "source": [
    "def geometric_brownian_motion(S0 = 20):\n",
    "    T = 2\n",
    "    mu = 0.1\n",
    "    sigma = 0.01\n",
    "    dt = 0.01\n",
    "    N = round(T/dt)\n",
    "    t = np.linspace(0, T, N)\n",
    "    time = np.linspace(0, T, N)\n",
    "    W = np.random.standard_normal(size = N) \n",
    "    W = np.cumsum(W)*np.sqrt(dt) ### standard brownian motion ###\n",
    "    X = (mu-0.5*sigma**2)*t + sigma*W \n",
    "    S = S0*np.exp(X) ### geometric brownian motion ###\n",
    "    plt.plot(time, S)\n",
    "    plt.xlabel(\"t\", rotation='horizontal')\n",
    "    plt.ylabel(\"S\", rotation='horizontal')\n",
    "    plt.show()\n",
    "    \n",
    "    return time, S\n",
    "\n",
    "x_t, a_t = geometric_brownian_motion() # States and actions"
   ]
  },
  {
   "cell_type": "markdown",
   "metadata": {},
   "source": [
    "For now, assuming: Asset (x_t) = Price (p_t)"
   ]
  },
  {
   "cell_type": "code",
   "execution_count": 23,
   "metadata": {},
   "outputs": [],
   "source": [
    "alph_theta = 0\n",
    "alph_omega = 0\n",
    "batch_size = 10\n",
    "\n",
    "# More parameters to be initialized\n"
   ]
  },
  {
   "cell_type": "code",
   "execution_count": null,
   "metadata": {},
   "outputs": [],
   "source": [
    "### Calculating rewards:\n",
    "\n",
    "R = []\n",
    "for i in range(len(x_t)):\n",
    "    if i == 0:\n",
    "        x_init = x_t[i]\n",
    "        pass\n",
    "    else:\n",
    "        r_t = (x_t[i] - x_init) / x_init if x_init else 0\n",
    "        #print (x_init, x_t[i], r_t)\n",
    "        x_init = x_t[i]\n",
    "        #print (\"new x_init: \", x_init)\n",
    "        R.append(r_t)"
   ]
  },
  {
   "cell_type": "markdown",
   "metadata": {},
   "source": [
    "## Policy $ \\pi_\\theta $\n",
    "\n",
    "In order to calculte free energy (Eq B.1), we take one term at a time\n",
    "$$ \\pi_\\theta(a_t|x_t) = \\pi_0(a_t|x_t)e^{\\beta (\\bf {G}_t^\\pi (x_t,a_t) - \\bf {F}_t^\\pi (x_t) )}\n",
    "$$\n",
    "t = T-1....0\n",
    "\n",
    "where $ \\pi_0: $\n",
    "$$ \\pi_0(a_t|x_t) = \\frac {e^{ \\frac {-1}{2} (a_t - \\hat{a}(x_t))^T \\Sigma_a^{-1} (a_t - \\hat{a}(x_t) } } \n",
    "{\\sqrt{(2\\pi)^N |\\Sigma_a|}}\n",
    "$$\n",
    "and $ {\\bf G}_t^\\pi(x_t, a_t) $:\n",
    "\n",
    "$$ {\\bf G}_t^\\pi(x_t, a_t) = {\\bf \\hat{R}} (x_t, a_t) + \\gamma \\mathbb{E}_{t,a} \\left[ {\\bf F}_{t+1}^\\pi(x_{t+1})|x_t, a_t \\right]\n",
    "$$\n",
    "\n",
    "and $ {\\bf F}_t^\\pi(x_t) $:\n",
    "$$ {\\bf F}_t^\\pi(x_t) = \\frac{1}{\\beta} log \\sum_{a_t}\\pi_0(a_t|x_t) e^{\\beta {\\bf G}_t^\\pi(x_t, a_t)}\n",
    "$$"
   ]
  },
  {
   "cell_type": "markdown",
   "metadata": {},
   "source": [
    "## Conditional Probability $ p_\\theta(y_{t+1}|y_t, a_t) $\n",
    "\n",
    "$$ p_\\theta(y_{t+1}|y_t, a_t) = p_z(z_{t+1}|z_t)p_\\theta(x_t{x+1}|x_t, a_t) (Eq. 76)$$ \n",
    "\n",
    "where:\n",
    "$$ p_z(z_{t+1}|z_t) = \\frac {1} {\\sqrt{(2\\pi)^K |\\Sigma_z|}} e^ {-\\frac{1}{2}(z_{t+1} - ({\\bf I}-\\phi)\\circ z_t)^T  \n",
    "\\Sigma_z^{-1} (z_{t+1} - ({\\bf I} - \\phi) \\circ z_t)} (Eq. 77)\n",
    "$$\n",
    "and\n",
    "$$ p_\\theta(x_{t+1}|x_t, a_t) = \\frac {1}{\\sqrt{(2\\pi)^N|\\Sigma_r|}} e^{-\\frac {1}{2}\\Sigma_r^{-1}} (~Eq. 80)$$"
   ]
  },
  {
   "cell_type": "markdown",
   "metadata": {},
   "source": [
    "## Variational Distribution $ q_\\bar{a}(\\bar{a}_t|y_t, \\omega) $\n",
    "$$ q_\\bar{a}(\\bar{a}_t|y_t, \\omega) = \\mathcal{N}(\\bar{a}_t|\\mu_a(y_t), \\Sigma_a) (Eq. 65) $$\n",
    "\n",
    "where:\n",
    "$$ \\mu_a(y_t) = \\mu_a + \\Lambda_a y_t $$\n",
    "\n",
    "Vector $ \\omega $ of parameters includes $ \\mu_a, \\Lambda_a $ and $ \\Sigma_a $"
   ]
  },
  {
   "cell_type": "markdown",
   "metadata": {},
   "source": []
  },
  {
   "cell_type": "code",
   "execution_count": 22,
   "metadata": {},
   "outputs": [],
   "source": []
  },
  {
   "cell_type": "code",
   "execution_count": null,
   "metadata": {},
   "outputs": [],
   "source": []
  }
 ],
 "metadata": {
  "kernelspec": {
   "display_name": "Python 3",
   "language": "python",
   "name": "python3"
  },
  "language_info": {
   "codemirror_mode": {
    "name": "ipython",
    "version": 3
   },
   "file_extension": ".py",
   "mimetype": "text/x-python",
   "name": "python",
   "nbconvert_exporter": "python",
   "pygments_lexer": "ipython3",
   "version": "3.6.4"
  }
 },
 "nbformat": 4,
 "nbformat_minor": 2
}
